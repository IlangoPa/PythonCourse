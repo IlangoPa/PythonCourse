{
 "cells": [
  {
   "cell_type": "code",
   "execution_count": 4,
   "id": "85ec6c3b-73e9-41bf-b487-c02944b3f372",
   "metadata": {},
   "outputs": [
    {
     "name": "stdin",
     "output_type": "stream",
     "text": [
      "Value 10\n"
     ]
    },
    {
     "name": "stdout",
     "output_type": "stream",
     "text": [
      "Correct\n"
     ]
    }
   ],
   "source": [
    "i = int(input(\"Value\"))\n",
    "if(i==10):\n",
    "    print(\"Correct\")"
   ]
  },
  {
   "cell_type": "code",
   "execution_count": 6,
   "id": "1f2c661a-b957-4f47-9bc2-1dc9d4d47601",
   "metadata": {},
   "outputs": [
    {
     "name": "stdin",
     "output_type": "stream",
     "text": [
      "Enter the password HOPE@123\n"
     ]
    },
    {
     "name": "stdout",
     "output_type": "stream",
     "text": [
      "Your password is correct\n"
     ]
    }
   ],
   "source": [
    "pw = \"HOPE@123\"\n",
    "ipw = input(\"Enter the password\")\n",
    "if (ipw == pw):\n",
    "    print (\"Your password is correct\")\n",
    "else:\n",
    "    print(\"Your password is wrong\")"
   ]
  },
  {
   "cell_type": "code",
   "execution_count": 11,
   "id": "74c858dd-2d69-4aa3-bdb6-b56ff220c617",
   "metadata": {},
   "outputs": [
    {
     "name": "stdin",
     "output_type": "stream",
     "text": [
      "Age:  25\n"
     ]
    },
    {
     "name": "stdout",
     "output_type": "stream",
     "text": [
      "Adult\n"
     ]
    }
   ],
   "source": [
    "age = int(input(\"Age: \"))\n",
    "if (age < 18):\n",
    "    print (\"Child\")\n",
    "elif (age < 35):\n",
    "    print (\"Adult\")\n",
    "elif (age < 59):\n",
    "    print (\"Citizen\")\n",
    "else:\n",
    "    print (\"Senior Citizen\")\n"
   ]
  },
  {
   "cell_type": "code",
   "execution_count": 15,
   "id": "ef395d83-7968-4e5a-9a74-4436e35cb108",
   "metadata": {},
   "outputs": [
    {
     "name": "stdin",
     "output_type": "stream",
     "text": [
      "Enter any number:  1\n"
     ]
    },
    {
     "name": "stdout",
     "output_type": "stream",
     "text": [
      "No. is positive\n"
     ]
    }
   ],
   "source": [
    "num = int(input(\"Enter any number: \"))\n",
    "if(num >=0):\n",
    "    print(\"No. is positive\")\n",
    "else:\n",
    "    print(\"No. is negative\")"
   ]
  },
  {
   "cell_type": "code",
   "execution_count": 17,
   "id": "26c2c19b-9e4f-47c3-9a75-4475f7858744",
   "metadata": {},
   "outputs": [
    {
     "name": "stdin",
     "output_type": "stream",
     "text": [
      "Enter a number to check:  45\n"
     ]
    },
    {
     "name": "stdout",
     "output_type": "stream",
     "text": [
      "No. is divisible by 5\n"
     ]
    }
   ],
   "source": [
    "num1 = int(input(\"Enter a number to check: \"))\n",
    "if(num1%5 != 0):\n",
    "    print(\"No. is not divisible by 5\")\n",
    "else:\n",
    "    print(\"No. is divisible by 5\")"
   ]
  },
  {
   "cell_type": "code",
   "execution_count": null,
   "id": "a7802250-024b-40d9-9265-836d3d18202e",
   "metadata": {},
   "outputs": [],
   "source": []
  }
 ],
 "metadata": {
  "kernelspec": {
   "display_name": "Python 3 (ipykernel)",
   "language": "python",
   "name": "python3"
  },
  "language_info": {
   "codemirror_mode": {
    "name": "ipython",
    "version": 3
   },
   "file_extension": ".py",
   "mimetype": "text/x-python",
   "name": "python",
   "nbconvert_exporter": "python",
   "pygments_lexer": "ipython3",
   "version": "3.13.5"
  }
 },
 "nbformat": 4,
 "nbformat_minor": 5
}
