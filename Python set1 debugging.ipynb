{
 "cells": [
  {
   "cell_type": "code",
   "execution_count": 1,
   "id": "f4eba1e0-8e07-4b3f-918f-6eae52465a0f",
   "metadata": {},
   "outputs": [
    {
     "name": "stdout",
     "output_type": "stream",
     "text": [
      "0\n",
      "1\n",
      "2\n",
      "3\n",
      "4\n"
     ]
    }
   ],
   "source": [
    "# for i in range(5) -- colon missing.\n",
    "for i in range(5):\n",
    "    print(i)"
   ]
  },
  {
   "cell_type": "code",
   "execution_count": 37,
   "id": "a888a233-6053-4b9f-bc83-a29498a90296",
   "metadata": {},
   "outputs": [
    {
     "name": "stdout",
     "output_type": "stream",
     "text": [
      "10 5\n"
     ]
    }
   ],
   "source": [
    "a = 10\n",
    "#b = \"5\" -- either this should be numerals or the print parameter should be like print(a,b). Or convert the input with the same type like string/int\n",
    "b = \"5\"\n",
    "print(a , b)\n",
    "\n"
   ]
  },
  {
   "cell_type": "code",
   "execution_count": 5,
   "id": "f74e658a-7986-4ed6-ad4f-5b3d8b9ea33c",
   "metadata": {},
   "outputs": [],
   "source": [
    "#def add_numbers(a, b)\n",
    "def add_numbers(a, b):\n",
    "    return a + b"
   ]
  },
  {
   "cell_type": "code",
   "execution_count": 32,
   "id": "b590fbed-ad33-476d-a9ce-2c7bdfb705b3",
   "metadata": {},
   "outputs": [
    {
     "data": {
      "text/plain": [
       "9"
      ]
     },
     "execution_count": 32,
     "metadata": {},
     "output_type": "execute_result"
    }
   ],
   "source": [
    "add_numbers(4,5)"
   ]
  },
  {
   "cell_type": "code",
   "execution_count": 31,
   "id": "00ef7c71-a420-4979-a72e-a5726df48431",
   "metadata": {},
   "outputs": [
    {
     "name": "stdout",
     "output_type": "stream",
     "text": [
      "4\n"
     ]
    }
   ],
   "source": [
    "numbers = [1, 2, 3, 4]\n",
    "#print(numbers[4]) -- since the position starts from 0, 4 here means the fifth place and the list has only four, it should not be more than 3.\n",
    "print(numbers[3])"
   ]
  },
  {
   "cell_type": "code",
   "execution_count": 8,
   "id": "ed126c48-1f5e-42c3-aa64-853d876ec4d9",
   "metadata": {},
   "outputs": [
    {
     "name": "stdout",
     "output_type": "stream",
     "text": [
      "Hello, World!\n"
     ]
    }
   ],
   "source": [
    "#print \"Hello, World!\" - the return should be within the parenthesis.\n",
    "print (\"Hello, World!\")"
   ]
  },
  {
   "cell_type": "code",
   "execution_count": 10,
   "id": "08e6f28b-6fa3-4f27-9aa5-1bf25c19fad1",
   "metadata": {},
   "outputs": [],
   "source": [
    "#x = 5 / 0 division by zero is not allowed\n",
    "x = 5 / 1"
   ]
  },
  {
   "cell_type": "code",
   "execution_count": 13,
   "id": "af3271d0-72cf-4596-931e-6aad3a4de330",
   "metadata": {},
   "outputs": [
    {
     "name": "stdout",
     "output_type": "stream",
     "text": [
      "Name:  Alice , Age:  25\n"
     ]
    }
   ],
   "source": [
    "name = \"Alice\"\n",
    "age = 25\n",
    "#print(\"Name: \" + name + \", Age: \" + age) - instead of plus sign, comma to be given.\n",
    "print(\"Name: \" ,name , \", Age: \" , age)"
   ]
  },
  {
   "cell_type": "code",
   "execution_count": 20,
   "id": "fef8f84e-547d-4a66-be8a-33c44a056a8e",
   "metadata": {},
   "outputs": [
    {
     "name": "stdout",
     "output_type": "stream",
     "text": [
      "9\n",
      "8\n",
      "7\n",
      "6\n",
      "5\n",
      "4\n",
      "3\n",
      "2\n",
      "1\n"
     ]
    }
   ],
   "source": [
    "#for i in range(1, 10, -1): - eitehr the increment should be positive or range should be like 9,1,-1.\n",
    "for i in range(9, 0, -1): # for decending order\n",
    "  \n",
    "#for i in range(1, 10, 1): for ascending order\n",
    "    print(i)"
   ]
  },
  {
   "cell_type": "code",
   "execution_count": 23,
   "id": "8b8bd765-b354-4ad9-b151-80032e9f466c",
   "metadata": {},
   "outputs": [
    {
     "name": "stdout",
     "output_type": "stream",
     "text": [
      "x is 5\n"
     ]
    }
   ],
   "source": [
    "x = 5 # changed from 10 to 5 to validate with pass result.\n",
    "#if x = 5: since it is comparative statement, the comparative operator should be \"==\". However, this will not print anything since the validation fails.\n",
    "if x == 5:\n",
    "    print(\"x is 5\")"
   ]
  },
  {
   "cell_type": "code",
   "execution_count": 28,
   "id": "6e90e0b7-6da9-4567-8fa5-86aa08608843",
   "metadata": {},
   "outputs": [],
   "source": [
    "#def greet(name) -- colon missing at the end of function.\n",
    "\n",
    "def greet(name):\n",
    "    print(\"Hello, \" , name)"
   ]
  },
  {
   "cell_type": "code",
   "execution_count": 30,
   "id": "c55ace08-8609-4b50-9b1c-227adda3b4f3",
   "metadata": {},
   "outputs": [
    {
     "name": "stdout",
     "output_type": "stream",
     "text": [
      "Hello,  Alice\n"
     ]
    }
   ],
   "source": [
    "greet(\"Alice\")"
   ]
  },
  {
   "cell_type": "code",
   "execution_count": null,
   "id": "1a5861de-866c-459b-9d77-35f6b8b39d18",
   "metadata": {},
   "outputs": [],
   "source": []
  }
 ],
 "metadata": {
  "kernelspec": {
   "display_name": "Python 3 (ipykernel)",
   "language": "python",
   "name": "python3"
  },
  "language_info": {
   "codemirror_mode": {
    "name": "ipython",
    "version": 3
   },
   "file_extension": ".py",
   "mimetype": "text/x-python",
   "name": "python",
   "nbconvert_exporter": "python",
   "pygments_lexer": "ipython3",
   "version": "3.13.5"
  }
 },
 "nbformat": 4,
 "nbformat_minor": 5
}
