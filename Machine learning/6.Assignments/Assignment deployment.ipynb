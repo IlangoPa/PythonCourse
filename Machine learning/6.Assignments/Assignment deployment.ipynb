{
 "cells": [
  {
   "cell_type": "code",
   "execution_count": 4,
   "id": "4a31316a-767f-4e90-a7cc-ab65b231fbaf",
   "metadata": {},
   "outputs": [],
   "source": [
    "import pickle"
   ]
  },
  {
   "cell_type": "code",
   "execution_count": 6,
   "id": "3100f8bd-03c2-494d-a186-82feb479b569",
   "metadata": {},
   "outputs": [],
   "source": [
    "loadedmodel = pickle.load(open(\"final_model_randomforest.sav\", \"rb\"))"
   ]
  },
  {
   "cell_type": "code",
   "execution_count": 7,
   "id": "fbf4c7ec-17ec-440e-ad50-48958f03817f",
   "metadata": {},
   "outputs": [
    {
     "name": "stdin",
     "output_type": "stream",
     "text": [
      "Enter the age: 30\n",
      "Enter the BM Index 25\n",
      "Enter the number of children: 0\n",
      "Enter Male/Female: Male\n",
      "Are you a smoker? Yes\n"
     ]
    },
    {
     "name": "stderr",
     "output_type": "stream",
     "text": [
      "C:\\Users\\Ilango\\AppData\\Local\\anaconda3\\Lib\\site-packages\\sklearn\\utils\\validation.py:2739: UserWarning: X does not have valid feature names, but RandomForestRegressor was fitted with feature names\n",
      "  warnings.warn(\n"
     ]
    },
    {
     "data": {
      "text/plain": [
       "array([17605.9879294])"
      ]
     },
     "execution_count": 7,
     "metadata": {},
     "output_type": "execute_result"
    }
   ],
   "source": [
    "age = int(input(\"Enter the age:\"))\n",
    "bmi = int(input(\"Enter the BM Index\"))\n",
    "children = int(input(\"Enter the number of children:\"))\n",
    "sexx = input(\"Enter Male/Female:\")\n",
    "if sexx == \"Male\":\n",
    "    sex = 0\n",
    "else:\n",
    "    sex = 1\n",
    "smoke = input(\"Are you a smoker?\")\n",
    "if smoke == \"Yes\":\n",
    "    smoker = 1\n",
    "else:\n",
    "    smoker = 0\n",
    "result = loadedmodel.predict([[age,bmi,children,sex,smoker]])\n",
    "result \n",
    "          "
   ]
  },
  {
   "cell_type": "code",
   "execution_count": null,
   "id": "550c7617-ab2d-49dd-91f2-9e0c43300e58",
   "metadata": {},
   "outputs": [],
   "source": []
  }
 ],
 "metadata": {
  "kernelspec": {
   "display_name": "Python 3 (ipykernel)",
   "language": "python",
   "name": "python3"
  },
  "language_info": {
   "codemirror_mode": {
    "name": "ipython",
    "version": 3
   },
   "file_extension": ".py",
   "mimetype": "text/x-python",
   "name": "python",
   "nbconvert_exporter": "python",
   "pygments_lexer": "ipython3",
   "version": "3.13.5"
  }
 },
 "nbformat": 4,
 "nbformat_minor": 5
}
