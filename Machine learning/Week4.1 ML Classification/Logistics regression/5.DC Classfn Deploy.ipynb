{
 "cells": [
  {
   "cell_type": "code",
   "execution_count": 1,
   "id": "3f1d59dc-1db3-4a4f-adc6-03823ad3fd54",
   "metadata": {},
   "outputs": [],
   "source": [
    "import pickle"
   ]
  },
  {
   "cell_type": "code",
   "execution_count": 4,
   "id": "6b739d34-6c74-4646-ad3a-cfb2baf8d672",
   "metadata": {},
   "outputs": [],
   "source": [
    "loaded_model = pickle.load(open(\"Final_Classfn_model.sav\", 'rb'))"
   ]
  },
  {
   "cell_type": "code",
   "execution_count": 14,
   "id": "1bca6b8a-bb81-4822-be2e-f70d5bf2655a",
   "metadata": {},
   "outputs": [
    {
     "name": "stdin",
     "output_type": "stream",
     "text": [
      "Enter the age: 19\n",
      "Enter the salary: 76000\n",
      "Enter 0 if you are Male else 1: 1\n"
     ]
    },
    {
     "name": "stdout",
     "output_type": "stream",
     "text": [
      "Purchased\n"
     ]
    },
    {
     "name": "stderr",
     "output_type": "stream",
     "text": [
      "C:\\Users\\Ilango\\AppData\\Local\\anaconda3\\Lib\\site-packages\\sklearn\\utils\\validation.py:2739: UserWarning: X does not have valid feature names, but DecisionTreeClassifier was fitted with feature names\n",
      "  warnings.warn(\n"
     ]
    }
   ],
   "source": [
    "age = int(input(\"Enter the age:\"))\n",
    "Salary = int(input(\"Enter the salary:\"))\n",
    "Gender = input(\"Enter 0 if you are Male else 1:\")\n",
    "result = loaded_model.predict([[age,Salary,Gender]])\n",
    "if result == 0:\n",
    "    presult = \"Purchased\"\n",
    "else:\n",
    "    presult = \"Not purchased\"\n",
    "print(presult)"
   ]
  },
  {
   "cell_type": "code",
   "execution_count": null,
   "id": "95f5ab02-2385-4152-b144-632322857bd0",
   "metadata": {},
   "outputs": [],
   "source": []
  }
 ],
 "metadata": {
  "kernelspec": {
   "display_name": "Python 3 (ipykernel)",
   "language": "python",
   "name": "python3"
  },
  "language_info": {
   "codemirror_mode": {
    "name": "ipython",
    "version": 3
   },
   "file_extension": ".py",
   "mimetype": "text/x-python",
   "name": "python",
   "nbconvert_exporter": "python",
   "pygments_lexer": "ipython3",
   "version": "3.13.5"
  }
 },
 "nbformat": 4,
 "nbformat_minor": 5
}
