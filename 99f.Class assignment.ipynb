{
 "cells": [
  {
   "cell_type": "code",
   "execution_count": 33,
   "id": "a91fd48e-d99b-433b-a695-d149643d45dc",
   "metadata": {},
   "outputs": [
    {
     "name": "stdout",
     "output_type": "stream",
     "text": [
      "Sub-fields in AI are:\n",
      "Machine learning\n",
      "Neural networks\n",
      "Vision\n",
      "Robotics\n",
      "Speech processing\n",
      "Natural language processing\n"
     ]
    }
   ],
   "source": [
    "multifunction.Subfields()"
   ]
  },
  {
   "cell_type": "code",
   "execution_count": 34,
   "id": "ecea0f15-537d-4645-9510-1fbb2654f78b",
   "metadata": {},
   "outputs": [
    {
     "name": "stdin",
     "output_type": "stream",
     "text": [
      "Enter a number 25\n"
     ]
    },
    {
     "name": "stdout",
     "output_type": "stream",
     "text": [
      "25  is Odd number\n"
     ]
    },
    {
     "data": {
      "text/plain": [
       "25"
      ]
     },
     "execution_count": 34,
     "metadata": {},
     "output_type": "execute_result"
    }
   ],
   "source": [
    "multifunction.OddEven()"
   ]
  },
  {
   "cell_type": "code",
   "execution_count": 25,
   "id": "739650af-a742-4773-86c7-d5b06bb569a0",
   "metadata": {},
   "outputs": [
    {
     "name": "stdin",
     "output_type": "stream",
     "text": [
      "Your gender: Male\n",
      "Your age: 20\n"
     ]
    },
    {
     "name": "stdout",
     "output_type": "stream",
     "text": [
      "Not Eligible\n"
     ]
    },
    {
     "data": {
      "text/plain": [
       "'Not Eligible'"
      ]
     },
     "execution_count": 25,
     "metadata": {},
     "output_type": "execute_result"
    }
   ],
   "source": [
    "multifunction.Eligible()"
   ]
  },
  {
   "cell_type": "code",
   "execution_count": 27,
   "id": "46d40e53-cbdc-4349-a6c6-11d63516d88c",
   "metadata": {},
   "outputs": [
    {
     "name": "stdin",
     "output_type": "stream",
     "text": [
      "Subject1= 98\n",
      "Subject2= 87\n",
      "Subject3= 95\n",
      "Subject4= 95\n",
      "Subject5= 93\n"
     ]
    },
    {
     "name": "stdout",
     "output_type": "stream",
     "text": [
      "Total: 468\n",
      "Percentage: 93.6\n"
     ]
    },
    {
     "data": {
      "text/plain": [
       "93.6"
      ]
     },
     "execution_count": 27,
     "metadata": {},
     "output_type": "execute_result"
    }
   ],
   "source": [
    "multifunction.percentage()"
   ]
  },
  {
   "cell_type": "code",
   "execution_count": 32,
   "id": "072b4ff9-840a-4880-9f18-546a47825016",
   "metadata": {},
   "outputs": [
    {
     "name": "stdin",
     "output_type": "stream",
     "text": [
      "Height: 32\n",
      "Width: 34\n"
     ]
    },
    {
     "name": "stdout",
     "output_type": "stream",
     "text": [
      "Area of triangle: 544.0\n"
     ]
    },
    {
     "name": "stdin",
     "output_type": "stream",
     "text": [
      "Height1: 2\n",
      "Height2: 4\n",
      "Width1: 4\n"
     ]
    },
    {
     "name": "stdout",
     "output_type": "stream",
     "text": [
      "Perimeter of triangle: 10\n"
     ]
    },
    {
     "data": {
      "text/plain": [
       "(544.0, 10)"
      ]
     },
     "execution_count": 32,
     "metadata": {},
     "output_type": "execute_result"
    }
   ],
   "source": [
    "multifunction.triangle()"
   ]
  },
  {
   "cell_type": "code",
   "execution_count": 40,
   "id": "764e785d-8c0e-4a4f-a4e4-ea7e1e7b6ffa",
   "metadata": {},
   "outputs": [],
   "source": [
    "class multiplefunction():\n",
    "    def Subfields():\n",
    "        print(\"Sub-fields in AI are:\")\n",
    "        lists = [\"Machine learning\", \"Neural networks\", \"Vision\", \"Robotics\", \"Speech processing\", \"Natural language processing\"]\n",
    "        for fields in lists:\n",
    "            print (fields)\n",
    "\n",
    "    def OddEven():\n",
    "        num = int(input(\"Enter a number\"))\n",
    "        if (num%2 == 0):\n",
    "            print (num, \" is Even number\")\n",
    "            numb = num\n",
    "        else:\n",
    "            print (num, \" is Odd number\")\n",
    "            numb = num\n",
    "        return numb\n",
    "\n",
    "\n",
    "    def Eligible():\n",
    "        gender = input(\"Your gender:\")\n",
    "        age = int(input(\"Your age:\"))\n",
    "        if(gender == \"Male\" and age >= 21):\n",
    "            print (\"Eligible\")\n",
    "            stat = \"Eligible\"\n",
    "        elif(gender == \"Female\" and age >= 18):\n",
    "            print (\"Eligible\")\n",
    "            stat = \"Eligible\"\n",
    "        else:\n",
    "            print (\"Not Eligible\")\n",
    "            stat = \"Not Eligible\"\n",
    "        return stat\n",
    "\n",
    "    def percentage():\n",
    "        sub1 = int(input(\"Subject1=\"))\n",
    "        sub2 = int(input(\"Subject2=\"))\n",
    "        sub3 = int(input(\"Subject3=\"))\n",
    "        sub4 = int(input(\"Subject4=\"))\n",
    "        sub5 = int(input(\"Subject5=\"))\n",
    "        tot = sub1+sub2+sub3+sub4+sub5\n",
    "        print(\"Total:\",tot)\n",
    "        percent = round(tot/5,2)\n",
    "        print(\"Percentage:\", percent)\n",
    "        return percent   \n",
    "\n",
    "    def triangle():\n",
    "        height = int(input(\"Height:\"))\n",
    "        width = int (input(\"Width:\"))\n",
    "        aot =  (height*width)/2\n",
    "        print(\"Area of triangle:\",aot)\n",
    "      \n",
    "        height1 = int(input(\"Height1:\"))\n",
    "        height2 = int(input(\"Height2:\"))\n",
    "        width1 = int (input(\"Width1:\"))\n",
    "        pot  = height1+height2+width1\n",
    "        print(\"Perimeter of triangle:\",pot)\n",
    "        return pot,aot"
   ]
  },
  {
   "cell_type": "code",
   "execution_count": 41,
   "id": "6540764e-5ef5-4823-bc1a-98d62d6de1c5",
   "metadata": {},
   "outputs": [
    {
     "name": "stdin",
     "output_type": "stream",
     "text": [
      "Enter a number 34\n"
     ]
    },
    {
     "name": "stdout",
     "output_type": "stream",
     "text": [
      "34  is Even number\n"
     ]
    },
    {
     "data": {
      "text/plain": [
       "34"
      ]
     },
     "execution_count": 41,
     "metadata": {},
     "output_type": "execute_result"
    }
   ],
   "source": [
    "multiplefunction.OddEven()"
   ]
  },
  {
   "cell_type": "code",
   "execution_count": 42,
   "id": "3ab9b416-381d-4af5-89c9-6b640caaf7a6",
   "metadata": {},
   "outputs": [],
   "source": []
  },
  {
   "cell_type": "code",
   "execution_count": null,
   "id": "0b1e21eb-1ba2-44ec-b05c-8be1ee064d3d",
   "metadata": {},
   "outputs": [],
   "source": []
  }
 ],
 "metadata": {
  "kernelspec": {
   "display_name": "Python 3 (ipykernel)",
   "language": "python",
   "name": "python3"
  },
  "language_info": {
   "codemirror_mode": {
    "name": "ipython",
    "version": 3
   },
   "file_extension": ".py",
   "mimetype": "text/x-python",
   "name": "python",
   "nbconvert_exporter": "python",
   "pygments_lexer": "ipython3",
   "version": "3.13.5"
  }
 },
 "nbformat": 4,
 "nbformat_minor": 5
}
