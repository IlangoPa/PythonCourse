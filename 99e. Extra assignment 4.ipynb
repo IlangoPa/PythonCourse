{
 "cells": [
  {
   "cell_type": "code",
   "execution_count": 2,
   "id": "d24c2a57-d0ce-4586-a132-b808da695f58",
   "metadata": {},
   "outputs": [],
   "source": [
    "lists = [\"Machine learning\", \"Neural networks\", \"Vision\", \"Robotics\", \"Speech processing\", \"Natural language processing\"]"
   ]
  },
  {
   "cell_type": "code",
   "execution_count": 3,
   "id": "40dc9224-2425-4c26-9747-b0650b7d00f5",
   "metadata": {},
   "outputs": [],
   "source": [
    "def Subfields():\n",
    "    for fields in lists:\n",
    "        print (fields)\n",
    "        subfields = \"fields\"\n",
    "    return subfields"
   ]
  },
  {
   "cell_type": "code",
   "execution_count": 4,
   "id": "3277adc0-baac-4010-8fa9-94134f369920",
   "metadata": {},
   "outputs": [
    {
     "name": "stdout",
     "output_type": "stream",
     "text": [
      "Machine learning\n",
      "Neural networks\n",
      "Vision\n",
      "Robotics\n",
      "Speech processing\n",
      "Natural language processing\n"
     ]
    }
   ],
   "source": [
    "SubfieldsInAi =  Subfields()"
   ]
  },
  {
   "cell_type": "code",
   "execution_count": 5,
   "id": "6edb86d6-b7db-4023-b9d2-9be5c03d4c92",
   "metadata": {},
   "outputs": [],
   "source": [
    "def OddEven():\n",
    "    num = int(input(\"Enter a number\"))\n",
    "    if (num%2 == 0):\n",
    "        print (num, \" is Even number\")\n",
    "        numb = num\n",
    "    else:\n",
    "        print (num, \" is Odd number\")\n",
    "        numb = num\n",
    "    return numb"
   ]
  },
  {
   "cell_type": "code",
   "execution_count": 6,
   "id": "a71b8ed8-db9c-484a-9a6f-b0a076e35c44",
   "metadata": {},
   "outputs": [
    {
     "name": "stdin",
     "output_type": "stream",
     "text": [
      "Enter a number 52452\n"
     ]
    },
    {
     "name": "stdout",
     "output_type": "stream",
     "text": [
      "52452  is Even number\n"
     ]
    }
   ],
   "source": [
    "OddEven = OddEven()"
   ]
  },
  {
   "cell_type": "code",
   "execution_count": 25,
   "id": "dd86ada7-63e3-4138-a2c6-e5ed48b1c443",
   "metadata": {},
   "outputs": [],
   "source": [
    "def Eligible():\n",
    "    gender = input(\"Your gender:\")\n",
    "    age = int(input(\"Your age:\"))\n",
    "    if(gender == \"Male\" and age >= 21):\n",
    "        print (\"Eligible\")\n",
    "        stat = \"Eligible\"\n",
    "    elif(gender == \"Female\" and age >= 18):\n",
    "        print (\"Eligible\")\n",
    "        stat = \"Eligible\"\n",
    "    else:\n",
    "        print (\"Not Eligible\")\n",
    "        stat = \"Not Eligible\"\n",
    "    return stat"
   ]
  },
  {
   "cell_type": "code",
   "execution_count": 26,
   "id": "92a41bb6-01e8-426c-98e1-12415c47d36c",
   "metadata": {},
   "outputs": [
    {
     "name": "stdin",
     "output_type": "stream",
     "text": [
      "Your gender: Male\n",
      "Your age: 20\n"
     ]
    },
    {
     "name": "stdout",
     "output_type": "stream",
     "text": [
      "Not Eligible\n"
     ]
    }
   ],
   "source": [
    "EligibilityForMarriage = Eligible()"
   ]
  },
  {
   "cell_type": "code",
   "execution_count": 35,
   "id": "8c6e2557-103f-470b-9111-6b9c97eb0a47",
   "metadata": {},
   "outputs": [],
   "source": [
    "def percentage():\n",
    "    sub1 = int(input(\"Subject1=\"))\n",
    "    sub2 = int(input(\"Subject2=\"))\n",
    "    sub3 = int(input(\"Subject3=\"))\n",
    "    sub4 = int(input(\"Subject4=\"))\n",
    "    sub5 = int(input(\"Subject5=\"))\n",
    "    tot = sub1+sub2+sub3+sub4+sub5\n",
    "    print(\"Total:\",tot)\n",
    "    percent = round(tot/5,2)\n",
    "    print(\"Percentage:\", percent)\n",
    "    return percent"
   ]
  },
  {
   "cell_type": "code",
   "execution_count": 36,
   "id": "b8a09009-dfc1-44b9-b805-9f3f0fd82943",
   "metadata": {},
   "outputs": [
    {
     "name": "stdin",
     "output_type": "stream",
     "text": [
      "Subject1= 98\n",
      "Subject2= 85\n",
      "Subject3= 95\n",
      "Subject4= 95\n",
      "Subject5= 93\n"
     ]
    },
    {
     "name": "stdout",
     "output_type": "stream",
     "text": [
      "Total: 466\n",
      "Percentage: 93.2\n"
     ]
    }
   ],
   "source": [
    "FindPercent = percentage()"
   ]
  },
  {
   "cell_type": "code",
   "execution_count": 37,
   "id": "1fc7660f-5b60-40f5-ab92-f6d415cf936f",
   "metadata": {},
   "outputs": [],
   "source": [
    "def percentage1(sub1,sub2,sub3,sub4,sub5):\n",
    "    tot = sub1+sub2+sub3+sub4+sub5\n",
    "    print(\"Total:\",tot)\n",
    "    percent = round(tot/5,2)\n",
    "    print(\"Percentage:\", percent)\n",
    "    return percent"
   ]
  },
  {
   "cell_type": "code",
   "execution_count": 38,
   "id": "8421fa2c-f2f4-4e46-9cb8-72bc1dc005e2",
   "metadata": {},
   "outputs": [
    {
     "name": "stdout",
     "output_type": "stream",
     "text": [
      "Total: 463\n",
      "Percentage: 92.6\n"
     ]
    }
   ],
   "source": [
    "centage = percentage1(93,87,95,95,93)"
   ]
  },
  {
   "cell_type": "code",
   "execution_count": null,
   "id": "4fbacc22-b45f-49fe-a2fd-f33cd42d1fc1",
   "metadata": {},
   "outputs": [],
   "source": []
  }
 ],
 "metadata": {
  "kernelspec": {
   "display_name": "Python 3 (ipykernel)",
   "language": "python",
   "name": "python3"
  },
  "language_info": {
   "codemirror_mode": {
    "name": "ipython",
    "version": 3
   },
   "file_extension": ".py",
   "mimetype": "text/x-python",
   "name": "python",
   "nbconvert_exporter": "python",
   "pygments_lexer": "ipython3",
   "version": "3.13.5"
  }
 },
 "nbformat": 4,
 "nbformat_minor": 5
}
