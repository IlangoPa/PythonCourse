{
 "cells": [
  {
   "cell_type": "code",
   "execution_count": 1,
   "id": "875577d8-e63a-45e1-af88-24d759b8db57",
   "metadata": {},
   "outputs": [
    {
     "name": "stdout",
     "output_type": "stream",
     "text": [
      "0\n",
      "1\n",
      "2\n",
      "3\n",
      "4\n",
      "5\n",
      "6\n",
      "7\n",
      "8\n",
      "9\n",
      "10\n",
      "11\n",
      "12\n",
      "13\n",
      "14\n",
      "15\n",
      "16\n",
      "17\n",
      "18\n",
      "19\n"
     ]
    }
   ],
   "source": [
    "for num in range(0,20):\n",
    "    print(num)"
   ]
  },
  {
   "cell_type": "code",
   "execution_count": 5,
   "id": "da8e0773-478f-436f-8a89-3f7d134f2215",
   "metadata": {},
   "outputs": [
    {
     "name": "stdout",
     "output_type": "stream",
     "text": [
      "10 11 12 13 14 15 16 17 18 19 "
     ]
    }
   ],
   "source": [
    "for num in range(10,20):\n",
    "    print(num, end=\" \")"
   ]
  },
  {
   "cell_type": "code",
   "execution_count": 33,
   "id": "ab13f046-702e-4a75-8f34-e091e8ce33fc",
   "metadata": {},
   "outputs": [
    {
     "name": "stdout",
     "output_type": "stream",
     "text": [
      "Number of the item in the list2 :\n",
      "7\n"
     ]
    }
   ],
   "source": [
    "lists = [10,20,14,55,43,87,76]\n",
    "print (\"Number of the item in the list2 :\")\n",
    "print(len(lists))"
   ]
  },
  {
   "cell_type": "code",
   "execution_count": 34,
   "id": "81a292fd-64d7-452d-9999-6b6d8e14ae0a",
   "metadata": {},
   "outputs": [
    {
     "name": "stdout",
     "output_type": "stream",
     "text": [
      "Number of the item in the list2 : 7\n"
     ]
    }
   ],
   "source": [
    "lists = [10,20,14,55,43,87,76]\n",
    "print (\"Number of the item in the list2 :\", len(lists))\n"
   ]
  },
  {
   "cell_type": "code",
   "execution_count": 20,
   "id": "63126db9-c859-4b0c-9a16-7142f75688e7",
   "metadata": {},
   "outputs": [
    {
     "name": "stdout",
     "output_type": "stream",
     "text": [
      "A\n",
      "r\n",
      "t\n",
      "i\n",
      "f\n",
      "i\n",
      "c\n",
      "i\n",
      "a\n",
      "l\n",
      " \n",
      "I\n",
      "n\n",
      "t\n",
      "e\n",
      "l\n",
      "l\n",
      "i\n",
      "g\n",
      "e\n",
      "n\n",
      "c\n",
      "e\n"
     ]
    }
   ],
   "source": [
    "word = \"Artificial Intelligence\"\n",
    "for letter in word:\n",
    "    print (letter)"
   ]
  },
  {
   "cell_type": "code",
   "execution_count": 15,
   "id": "13353b17-766f-4c32-8471-7ee0e1eb12e1",
   "metadata": {},
   "outputs": [
    {
     "name": "stdin",
     "output_type": "stream",
     "text": [
      "-Your name-  Rajesh\n",
      "-Your age-  30\n",
      "-Your profession-  Software developer\n"
     ]
    }
   ],
   "source": [
    "name = input(\"-Your name- \")\n",
    "age = int(input(\"-Your age- \"))\n",
    "Profession = input(\"-Your profession- \")"
   ]
  },
  {
   "cell_type": "code",
   "execution_count": 18,
   "id": "94a7fb53-6eae-45f7-b5fe-ae2f859d26e7",
   "metadata": {},
   "outputs": [
    {
     "name": "stdout",
     "output_type": "stream",
     "text": [
      "(1, 'Welcome', 2, 'HOPE')\n"
     ]
    }
   ],
   "source": [
    "MyTuple = (1, \"Welcome\", 2, \"HOPE\")\n",
    "print (MyTuple)"
   ]
  },
  {
   "cell_type": "code",
   "execution_count": 36,
   "id": "37ec225b-1902-4d12-b3a3-73f0bb6d0172",
   "metadata": {},
   "outputs": [
    {
     "name": "stdout",
     "output_type": "stream",
     "text": [
      "((1, 2, 3, 4), ('Python', 'Hope'))\n"
     ]
    }
   ],
   "source": [
    "tup1 = (1,2,3,4)\n",
    "tup2 = (\"Python\", \"Hope\")\n",
    "tup3 = (tup1,tup2)\n",
    "print(tup3)"
   ]
  },
  {
   "cell_type": "code",
   "execution_count": 24,
   "id": "0867822e-c41a-4ebe-8291-8ee1c397d498",
   "metadata": {},
   "outputs": [
    {
     "name": "stdout",
     "output_type": "stream",
     "text": [
      "(1, 2, 3, 4, ('Python', 'Hope'))\n"
     ]
    }
   ],
   "source": [
    "MyTuple1 = (1,2,3,4,(\"Python\", \"Hope\"))\n",
    "print (MyTuple1)"
   ]
  },
  {
   "cell_type": "code",
   "execution_count": 30,
   "id": "e1cedc79-bf9d-424f-b70e-c346ad662924",
   "metadata": {},
   "outputs": [
    {
     "name": "stdout",
     "output_type": "stream",
     "text": [
      "19 is the Odd number\n",
      "25 is the Odd number\n",
      "1 is the Odd number\n"
     ]
    }
   ],
   "source": [
    "lists = [20,10,16,19,25,1,276,188]\n",
    "for num in lists:\n",
    "    if (num%2 == 1):\n",
    "        print (num, \"is the Odd number\")"
   ]
  },
  {
   "cell_type": "code",
   "execution_count": 32,
   "id": "7f73e917-95b6-4052-bb66-a257a679df94",
   "metadata": {},
   "outputs": [
    {
     "name": "stdout",
     "output_type": "stream",
     "text": [
      "20 is the Even number\n",
      "10 is the Even number\n",
      "16 is the Even number\n",
      "276 is the Even number\n",
      "188 is the Even number\n"
     ]
    }
   ],
   "source": [
    "lists = [20,10,16,19,25,1,276,188]\n",
    "for num in lists:\n",
    "    if (num%2 != 1):\n",
    "        print (num, \"is the Even number\")"
   ]
  },
  {
   "cell_type": "code",
   "execution_count": null,
   "id": "e6c81b6a-615e-4ce6-b452-4f1fbf21f83c",
   "metadata": {},
   "outputs": [],
   "source": []
  }
 ],
 "metadata": {
  "kernelspec": {
   "display_name": "Python 3 (ipykernel)",
   "language": "python",
   "name": "python3"
  },
  "language_info": {
   "codemirror_mode": {
    "name": "ipython",
    "version": 3
   },
   "file_extension": ".py",
   "mimetype": "text/x-python",
   "name": "python",
   "nbconvert_exporter": "python",
   "pygments_lexer": "ipython3",
   "version": "3.13.5"
  }
 },
 "nbformat": 4,
 "nbformat_minor": 5
}
