{
 "cells": [
  {
   "cell_type": "code",
   "execution_count": 1,
   "id": "48463356-cdc7-4ec5-b238-05c248882a34",
   "metadata": {},
   "outputs": [
    {
     "name": "stdout",
     "output_type": "stream",
     "text": [
      "HOPE AI\n"
     ]
    }
   ],
   "source": [
    "print (\"HOPE AI\")"
   ]
  },
  {
   "cell_type": "code",
   "execution_count": 4,
   "id": "9c1d1808-0177-4d13-913f-eaa7ba5d34af",
   "metadata": {},
   "outputs": [
    {
     "name": "stdin",
     "output_type": "stream",
     "text": [
      "Enter your institute name: HOPE AI\n"
     ]
    }
   ],
   "source": [
    "Name = input(\"Enter your institute name:\")\n"
   ]
  },
  {
   "cell_type": "code",
   "execution_count": 6,
   "id": "20006b04-6334-45d4-a743-4bb6694bdbbb",
   "metadata": {},
   "outputs": [
    {
     "name": "stdin",
     "output_type": "stream",
     "text": [
      "Enter your name: Selvam\n",
      "Enter your age: 21\n",
      "Enter your school name: Hindu matriculation\n",
      "Enter your degree: Bcom\n"
     ]
    }
   ],
   "source": [
    "Name1 = input(\"Enter your name:\")\n",
    "Age = int(input(\"Enter your age:\"))\n",
    "School = input(\"Enter your school name:\")\n",
    "Degree = input(\"Enter your degree:\")"
   ]
  },
  {
   "cell_type": "code",
   "execution_count": 8,
   "id": "4f48432e-b798-4d9e-b280-ba3a5298eb12",
   "metadata": {},
   "outputs": [
    {
     "name": "stdout",
     "output_type": "stream",
     "text": [
      "a =  43\n",
      "b =  34\n",
      "add = 77\n"
     ]
    }
   ],
   "source": [
    "a = 43\n",
    "print (\"a = \",a)\n",
    "b = 34\n",
    "print (\"b = \",b)\n",
    "print (\"add =\", a+b)"
   ]
  },
  {
   "cell_type": "code",
   "execution_count": 9,
   "id": "0ead18ff-493c-4cab-a8cf-48660dd0e87b",
   "metadata": {},
   "outputs": [
    {
     "name": "stdout",
     "output_type": "stream",
     "text": [
      "a =  43\n",
      "b =  34\n",
      "sub = 9\n"
     ]
    }
   ],
   "source": [
    "a = 43\n",
    "print (\"a = \",a)\n",
    "b = 34\n",
    "print (\"b = \",b)\n",
    "print (\"sub =\", a-b)"
   ]
  },
  {
   "cell_type": "code",
   "execution_count": 10,
   "id": "ad896f43-4037-4c55-94a9-b755d9eb5088",
   "metadata": {},
   "outputs": [
    {
     "name": "stdout",
     "output_type": "stream",
     "text": [
      "a =  63\n",
      "b =  97\n",
      "mul = 6111\n"
     ]
    }
   ],
   "source": [
    "a = 63\n",
    "print (\"a = \",a)\n",
    "b = 97\n",
    "print (\"b = \",b)\n",
    "print (\"mul =\", a*b)"
   ]
  },
  {
   "cell_type": "code",
   "execution_count": 11,
   "id": "6da4380e-5d67-4580-a3ca-cdf2dfdac842",
   "metadata": {},
   "outputs": [
    {
     "name": "stdout",
     "output_type": "stream",
     "text": [
      "a =  76\n",
      "b =  31\n",
      "Float div = 2.4516129032258065\n"
     ]
    }
   ],
   "source": [
    "a = 76\n",
    "print (\"a = \",a)\n",
    "b = 31\n",
    "print (\"b = \",b)\n",
    "print (\"Float div =\", a/b)"
   ]
  },
  {
   "cell_type": "code",
   "execution_count": 12,
   "id": "4bc57383-d62e-4aa6-b049-e5a0f3e42b12",
   "metadata": {},
   "outputs": [
    {
     "name": "stdout",
     "output_type": "stream",
     "text": [
      "a =  76\n",
      "b =  31\n",
      "Floor div = 2\n"
     ]
    }
   ],
   "source": [
    "a = 76\n",
    "print (\"a = \",a)\n",
    "b = 31\n",
    "print (\"b = \",b)\n",
    "print (\"Floor div =\", int(a/b))"
   ]
  },
  {
   "cell_type": "code",
   "execution_count": 15,
   "id": "274c4760-6c29-4f91-91f6-c05e8aa4ac1c",
   "metadata": {},
   "outputs": [
    {
     "name": "stdout",
     "output_type": "stream",
     "text": [
      "a =  76\n",
      "b =  31\n",
      "Modulo = 14\n"
     ]
    }
   ],
   "source": [
    "a = 76\n",
    "print (\"a = \",a)\n",
    "b = 31\n",
    "print (\"b = \",b)\n",
    "print (\"Modulo =\", a%b)"
   ]
  },
  {
   "cell_type": "code",
   "execution_count": 13,
   "id": "2541168c-f804-49c0-97d8-1cc8f12e87bb",
   "metadata": {},
   "outputs": [
    {
     "name": "stdout",
     "output_type": "stream",
     "text": [
      "a =  4\n",
      "b =  4\n",
      "Power = 256\n"
     ]
    }
   ],
   "source": [
    "a = 4\n",
    "print (\"a = \",a)\n",
    "b = 4\n",
    "print (\"b = \",b)\n",
    "print (\"Power =\", a**b)"
   ]
  },
  {
   "cell_type": "code",
   "execution_count": null,
   "id": "d8eb6a72-2081-4528-9af3-0bf612c26bc7",
   "metadata": {},
   "outputs": [],
   "source": []
  }
 ],
 "metadata": {
  "kernelspec": {
   "display_name": "Python 3 (ipykernel)",
   "language": "python",
   "name": "python3"
  },
  "language_info": {
   "codemirror_mode": {
    "name": "ipython",
    "version": 3
   },
   "file_extension": ".py",
   "mimetype": "text/x-python",
   "name": "python",
   "nbconvert_exporter": "python",
   "pygments_lexer": "ipython3",
   "version": "3.13.5"
  }
 },
 "nbformat": 4,
 "nbformat_minor": 5
}
