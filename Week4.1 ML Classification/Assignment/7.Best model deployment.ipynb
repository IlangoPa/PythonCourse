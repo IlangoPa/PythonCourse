{
 "cells": [
  {
   "cell_type": "code",
   "execution_count": 2,
   "id": "aa645a5c-6de2-4699-bb34-4541efafe4ab",
   "metadata": {},
   "outputs": [],
   "source": [
    "import pandas as pd"
   ]
  },
  {
   "cell_type": "code",
   "execution_count": 3,
   "id": "22ab0423-7e39-44ac-a48b-eb7d2cde08b9",
   "metadata": {},
   "outputs": [],
   "source": [
    "dataset = pd.read_csv(\"CKD.csv\")"
   ]
  },
  {
   "cell_type": "code",
   "execution_count": 4,
   "id": "919c7a49-1d53-41da-88cd-67d20077c60f",
   "metadata": {},
   "outputs": [],
   "source": [
    "dataset = pd.get_dummies(dataset, dtype = int, drop_first = True)"
   ]
  },
  {
   "cell_type": "code",
   "execution_count": 5,
   "id": "af5dffa1-f248-423a-ba77-3c47522cbe09",
   "metadata": {},
   "outputs": [],
   "source": [
    "independent = dataset.drop(columns = ['classification_yes'])"
   ]
  },
  {
   "cell_type": "code",
   "execution_count": 6,
   "id": "e1b584ac-37bb-4aca-ae0a-0933971af667",
   "metadata": {},
   "outputs": [],
   "source": [
    "dependent = dataset['classification_yes']"
   ]
  },
  {
   "cell_type": "code",
   "execution_count": 7,
   "id": "4ea4967a-b853-483c-ae41-e4f6b2682f78",
   "metadata": {},
   "outputs": [],
   "source": [
    "from sklearn.model_selection import train_test_split\n",
    "xtrain,xtest,ytrain,ytest = train_test_split(independent,dependent,test_size = 0.3, random_state = 0)"
   ]
  },
  {
   "cell_type": "code",
   "execution_count": 2,
   "id": "ce8e9bca-fe57-4f13-9d8c-1d672c8d5028",
   "metadata": {},
   "outputs": [
    {
     "name": "stdout",
     "output_type": "stream",
     "text": [
      "The prediction for the new input is: [1]\n"
     ]
    },
    {
     "name": "stderr",
     "output_type": "stream",
     "text": [
      "C:\\Users\\Ilango\\AppData\\Local\\anaconda3\\Lib\\site-packages\\sklearn\\utils\\validation.py:2739: UserWarning: X does not have valid feature names, but StandardScaler was fitted with feature names\n",
      "  warnings.warn(\n"
     ]
    }
   ],
   "source": [
    "import pickle\n",
    "loaded_model = pickle.load(open(\"final_model_logisticRegression.sav\", 'rb'))\n",
    "loaded_sc = pickle.load(open(\"scaler_LR.sav\",'rb'))\n",
    "\n",
    "preinput = loaded_sc.transform([[38,70,0,0,104,77,1.9,140,3.9,12.518155619596538,38.86890243902439,8408.191126279864,4.705597014925374,1,1,1,1,0,0,1,1,0,1,1,1,0,1\n",
    "]])\n",
    "result = loaded_model.predict(preinput)\n",
    "print(\"The prediction for the new input is:\", result)            "
   ]
  },
  {
   "cell_type": "code",
   "execution_count": null,
   "id": "379a40b4-1d7e-4d82-9689-1c8569f32cb0",
   "metadata": {},
   "outputs": [],
   "source": []
  }
 ],
 "metadata": {
  "kernelspec": {
   "display_name": "Python 3 (ipykernel)",
   "language": "python",
   "name": "python3"
  },
  "language_info": {
   "codemirror_mode": {
    "name": "ipython",
    "version": 3
   },
   "file_extension": ".py",
   "mimetype": "text/x-python",
   "name": "python",
   "nbconvert_exporter": "python",
   "pygments_lexer": "ipython3",
   "version": "3.13.5"
  }
 },
 "nbformat": 4,
 "nbformat_minor": 5
}
