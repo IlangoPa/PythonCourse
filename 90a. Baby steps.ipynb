{
 "cells": [
  {
   "cell_type": "code",
   "execution_count": 1,
   "id": "62c079ba-dd4b-47c4-bbd6-9413df7fabc7",
   "metadata": {},
   "outputs": [
    {
     "name": "stdout",
     "output_type": "stream",
     "text": [
      "Welcome to Assignment - 1\n"
     ]
    }
   ],
   "source": [
    "print (\"Welcome to Assignment - 1\")"
   ]
  },
  {
   "cell_type": "code",
   "execution_count": 6,
   "id": "33ca0879-583c-4b10-aa4f-d64cb0163790",
   "metadata": {},
   "outputs": [
    {
     "name": "stdout",
     "output_type": "stream",
     "text": [
      "Num1 =  10\n",
      "Num2 =  30\n",
      "Add =  40\n"
     ]
    }
   ],
   "source": [
    "Num1 = 10\n",
    "print(\"Num1 = \",Num1)\n",
    "Num2 = 30\n",
    "print(\"Num2 = \",Num2)\n",
    "print(\"Add = \",Num1+Num2)"
   ]
  },
  {
   "cell_type": "code",
   "execution_count": 31,
   "id": "52c8e891-6fd7-497a-929a-5a6f13056021",
   "metadata": {},
   "outputs": [
    {
     "name": "stdin",
     "output_type": "stream",
     "text": [
      "Enter the BMI index: 25\n"
     ]
    },
    {
     "name": "stdout",
     "output_type": "stream",
     "text": [
      "Your BMI is 25 You are Over weight\n"
     ]
    }
   ],
   "source": [
    "BMI = int(input(\"Enter the BMI index:\"))\n",
    "if (BMI < 18.5):\n",
    "    print (\"Your BMI is\", BMI, \"You are Underweight\")\n",
    "elif (BMI < 25):\n",
    "    print (\"Your BMI is\", BMI, \"You are Healthy weight\")\n",
    "elif (BMI < 30):\n",
    "    print (\"Your BMI is\", BMI, \"You are Over weight\")\n",
    "elif (BMI < 35):\n",
    "    print (\"Your BMI is\", BMI, \"You are medically Obessity class I\")\n",
    "elif (BMI < 40):\n",
    "    print (\"Your BMI is\", BMI, \"You are medically Obesity class II\")\n",
    "else:\n",
    "    print (\"Your BMI is\", BMI, \"You are Excessively Obesity\")"
   ]
  },
  {
   "cell_type": "code",
   "execution_count": 39,
   "id": "fa24a203-ae07-4c2f-a3b4-629234fd4cfa",
   "metadata": {},
   "outputs": [
    {
     "name": "stdin",
     "output_type": "stream",
     "text": [
      "Enter your height in centimeter 152\n",
      "Enter your weight in kgs 56\n"
     ]
    },
    {
     "name": "stdout",
     "output_type": "stream",
     "text": [
      "Your BMI is 24.24 You are Healthy weight\n"
     ]
    }
   ],
   "source": [
    "Height = int(input(\"Enter your height in centimeter\"))\n",
    "Weight = int(input(\"Enter your weight in kgs\"))\n",
    "if (Height <=0 or Weight <=0):\n",
    "    print (\"Please enter positive values\")\n",
    "else:\n",
    "    BMI = round(Weight/((Height*Height)/10000),2)\n",
    "   \n",
    "    if (BMI < 18.5):\n",
    "        print (\"Your BMI is\", BMI, \"You are Underweight\")\n",
    "    elif (BMI < 25):\n",
    "        print (\"Your BMI is\", BMI, \"You are Healthy weight\")\n",
    "    elif (BMI < 30):\n",
    "        print (\"Your BMI is\", BMI, \"You are Over weight\")\n",
    "    elif (BMI < 35):\n",
    "        print (\"Your BMI is\", BMI, \"You are medically Obessity class I\")\n",
    "    elif (BMI < 40):\n",
    "        print (\"Your BMI is\", BMI, \"You are medically Obesity class II\")\n",
    "    else:\n",
    "        print (\"Your BMI is\", BMI, \"You are Excessively Obesity\")\n"
   ]
  },
  {
   "cell_type": "code",
   "execution_count": null,
   "id": "30efaaa0-cf1a-45cd-a1ac-befb51dc8f44",
   "metadata": {},
   "outputs": [],
   "source": []
  }
 ],
 "metadata": {
  "kernelspec": {
   "display_name": "Python 3 (ipykernel)",
   "language": "python",
   "name": "python3"
  },
  "language_info": {
   "codemirror_mode": {
    "name": "ipython",
    "version": 3
   },
   "file_extension": ".py",
   "mimetype": "text/x-python",
   "name": "python",
   "nbconvert_exporter": "python",
   "pygments_lexer": "ipython3",
   "version": "3.13.5"
  }
 },
 "nbformat": 4,
 "nbformat_minor": 5
}
